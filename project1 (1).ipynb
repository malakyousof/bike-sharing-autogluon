{
 "cells": [
  {
   "cell_type": "code",
   "execution_count": 11,
   "id": "c2edb307-7cbf-4b35-a47a-0f2fe2e6f54c",
   "metadata": {
    "tags": []
   },
   "outputs": [],
   "source": [
    "import os\n",
    "os.environ['KAGGLE_USERNAME'] = 'malakyousof'\n",
    "os.environ['KAGGLE_KEY'] = '14a6c5c64d5fd62e0b83d76777c55b9b'\n"
   ]
  },
  {
   "cell_type": "code",
   "execution_count": null,
   "id": "bca59b05-3410-4ff9-968c-469b2fc374f7",
   "metadata": {
    "tags": []
   },
   "outputs": [],
   "source": [
    "!pip install mxnet==1.8.0.post0\n",
    "!pip install \"pandas>=1.2.4,<1.3.0\"\n",
    "!pip install autogluon\n"
   ]
  },
  {
   "cell_type": "code",
   "execution_count": 4,
   "id": "851ad720-76e0-4ee2-acb1-92a4fd581c58",
   "metadata": {
    "tags": []
   },
   "outputs": [
    {
     "name": "stdout",
     "output_type": "stream",
     "text": [
      "Train shape: (10886, 12)\n",
      "<class 'pandas.core.frame.DataFrame'>\n",
      "RangeIndex: 10886 entries, 0 to 10885\n",
      "Data columns (total 12 columns):\n",
      " #   Column      Non-Null Count  Dtype  \n",
      "---  ------      --------------  -----  \n",
      " 0   datetime    10886 non-null  object \n",
      " 1   season      10886 non-null  int64  \n",
      " 2   holiday     10886 non-null  int64  \n",
      " 3   workingday  10886 non-null  int64  \n",
      " 4   weather     10886 non-null  int64  \n",
      " 5   temp        10886 non-null  float64\n",
      " 6   atemp       10886 non-null  float64\n",
      " 7   humidity    10886 non-null  int64  \n",
      " 8   windspeed   10886 non-null  float64\n",
      " 9   casual      10886 non-null  int64  \n",
      " 10  registered  10886 non-null  int64  \n",
      " 11  count       10886 non-null  int64  \n",
      "dtypes: float64(3), int64(8), object(1)\n",
      "memory usage: 1020.7+ KB\n",
      "None\n",
      "             season       holiday    workingday       weather         temp  \\\n",
      "count  10886.000000  10886.000000  10886.000000  10886.000000  10886.00000   \n",
      "mean       2.506614      0.028569      0.680875      1.418427     20.23086   \n",
      "std        1.116174      0.166599      0.466159      0.633839      7.79159   \n",
      "min        1.000000      0.000000      0.000000      1.000000      0.82000   \n",
      "25%        2.000000      0.000000      0.000000      1.000000     13.94000   \n",
      "50%        3.000000      0.000000      1.000000      1.000000     20.50000   \n",
      "75%        4.000000      0.000000      1.000000      2.000000     26.24000   \n",
      "max        4.000000      1.000000      1.000000      4.000000     41.00000   \n",
      "\n",
      "              atemp      humidity     windspeed        casual    registered  \\\n",
      "count  10886.000000  10886.000000  10886.000000  10886.000000  10886.000000   \n",
      "mean      23.655084     61.886460     12.799395     36.021955    155.552177   \n",
      "std        8.474601     19.245033      8.164537     49.960477    151.039033   \n",
      "min        0.760000      0.000000      0.000000      0.000000      0.000000   \n",
      "25%       16.665000     47.000000      7.001500      4.000000     36.000000   \n",
      "50%       24.240000     62.000000     12.998000     17.000000    118.000000   \n",
      "75%       31.060000     77.000000     16.997900     49.000000    222.000000   \n",
      "max       45.455000    100.000000     56.996900    367.000000    886.000000   \n",
      "\n",
      "              count  \n",
      "count  10886.000000  \n",
      "mean     191.574132  \n",
      "std      181.144454  \n",
      "min        1.000000  \n",
      "25%       42.000000  \n",
      "50%      145.000000  \n",
      "75%      284.000000  \n",
      "max      977.000000  \n",
      "Missing values:\n",
      " datetime      0\n",
      "season        0\n",
      "holiday       0\n",
      "workingday    0\n",
      "weather       0\n",
      "temp          0\n",
      "atemp         0\n",
      "humidity      0\n",
      "windspeed     0\n",
      "casual        0\n",
      "registered    0\n",
      "count         0\n",
      "dtype: int64\n",
      "Index(['datetime', 'season', 'holiday', 'workingday', 'weather', 'temp',\n",
      "       'atemp', 'humidity', 'windspeed', 'casual', 'registered', 'count'],\n",
      "      dtype='object')\n"
     ]
    }
   ],
   "source": [
    "\n",
    "import pandas as pd\n",
    "import autogluon\n",
    "train = pd.read_csv('train.csv')\n",
    "test = pd.read_csv('test.csv')\n",
    "\n",
    "print(\"Train shape:\", train.shape)\n",
    "print(train.info())\n",
    "print(train.describe())a\n",
    "print(\"Missing values:\\n\", train.isnull().sum())\n",
    "print(train.columns)"
   ]
  },
  {
   "cell_type": "code",
   "execution_count": 5,
   "id": "a74cf358-6aa7-4018-b579-b6c0ad54934a",
   "metadata": {
    "tags": []
   },
   "outputs": [],
   "source": [
    "import pandas as pd\n",
    "\n",
    "# Assuming train and test are already loaded DataFrames\n",
    "\n",
    "# Extract hour from datetime\n",
    "train['hour'] = pd.to_datetime(train['datetime']).dt.hour\n",
    "test['hour'] = pd.to_datetime(test['datetime']).dt.hour\n",
    "\n",
    "# Create a new ratio feature\n",
    "train['temp_atemp_ratio'] = train['temp'] / (train['atemp'] + 1e-5)\n",
    "test['temp_atemp_ratio'] = test['temp'] / (test['atemp'] + 1e-5)\n",
    "\n",
    "# Drop leakage columns only if they exist\n",
    "cols_to_drop = ['casual', 'registered']\n",
    "cols_present = [col for col in cols_to_drop if col in train.columns]\n",
    "train = train.drop(columns=cols_present)\n",
    "\n",
    "# Save updated DataFrames\n",
    "train.to_csv('train_modified.csv', index=False)\n",
    "test.to_csv('test_modified.csv', index=False)\n"
   ]
  },
  {
   "cell_type": "code",
   "execution_count": 6,
   "id": "4bcc23e4-cdd7-4df8-827e-a10001132814",
   "metadata": {
    "tags": []
   },
   "outputs": [],
   "source": [
    "label = 'count'\n",
    "\n",
    "train_features = train.drop(columns=[label, 'datetime']) \n",
    "train_label = train[label]\n",
    "\n",
    "test_features = test.drop(columns=['datetime'])  \n"
   ]
  },
  {
   "cell_type": "code",
   "execution_count": null,
   "id": "77c8b28b-a8c3-4eaa-b834-7fa82e079ec5",
   "metadata": {
    "tags": []
   },
   "outputs": [],
   "source": [
    "from autogluon.tabular import TabularPredictor\n",
    "import pandas as pd\n",
    "\n",
    "# Load your processed train and test data\n",
    "train = pd.read_csv('train_modified.csv')\n",
    "test = pd.read_csv('test_modified.csv')\n",
    "\n",
    "\n",
    "\n",
    "predictor = TabularPredictor(label=label).fit(\n",
    "    train_data=train,\n",
    "    tuning_data=None,  \n",
    "    time_limit=600, \n",
    "    presets='best_quality',  \n",
    "    hyperparameters={\n",
    "        'GBM': {\n",
    "            'num_boost_round': 1000,\n",
    "            'learning_rate': 0.05,\n",
    "            'max_depth': 10,\n",
    "        },\n",
    "        # You can add other models too\n",
    "    },\n",
    "    verbosity=3\n",
    ")\n"
   ]
  },
  {
   "cell_type": "code",
   "execution_count": 8,
   "id": "2d8eeff8-fdd9-43e1-8fee-6a9171267c8e",
   "metadata": {
    "tags": []
   },
   "outputs": [
    {
     "name": "stderr",
     "output_type": "stream",
     "text": [
      "/opt/conda/envs/sagemaker-distribution/lib/python3.10/site-packages/autogluon/features/generators/fillna.py:58: FutureWarning: The 'downcast' keyword in fillna is deprecated and will be removed in a future version. Use res.infer_objects(copy=False) to infer non-object dtype, or pd.to_numeric with the 'downcast' keyword to downcast numeric results.\n",
      "  X.fillna(self._fillna_feature_map, inplace=True, downcast=False)\n",
      "Loading: AutogluonModels/ag-20250608_121543/models/LightGBM_BAG_L1/model.pkl\n",
      "Loading: AutogluonModels/ag-20250608_121543/models/WeightedEnsemble_L2/model.pkl\n"
     ]
    }
   ],
   "source": [
    "predictions = predictor.predict(test)\n"
   ]
  },
  {
   "cell_type": "code",
   "execution_count": 20,
   "id": "c2b987ea-c45a-40c9-986b-c3a2f2314b00",
   "metadata": {
    "tags": []
   },
   "outputs": [
    {
     "name": "stdout",
     "output_type": "stream",
     "text": [
      "Collecting kaggle\n",
      "  Downloading kaggle-1.7.4.5-py3-none-any.whl.metadata (16 kB)\n",
      "Requirement already satisfied: bleach in /opt/conda/envs/sagemaker-distribution/lib/python3.10/site-packages (from kaggle) (6.1.0)\n",
      "Requirement already satisfied: certifi>=14.05.14 in /opt/conda/envs/sagemaker-distribution/lib/python3.10/site-packages (from kaggle) (2024.2.2)\n",
      "Requirement already satisfied: charset-normalizer in /opt/conda/envs/sagemaker-distribution/lib/python3.10/site-packages (from kaggle) (3.3.2)\n",
      "Requirement already satisfied: idna in /opt/conda/envs/sagemaker-distribution/lib/python3.10/site-packages (from kaggle) (3.7)\n",
      "Requirement already satisfied: protobuf in /opt/conda/envs/sagemaker-distribution/lib/python3.10/site-packages (from kaggle) (4.24.4)\n",
      "Requirement already satisfied: python-dateutil>=2.5.3 in /opt/conda/envs/sagemaker-distribution/lib/python3.10/site-packages (from kaggle) (2.9.0)\n",
      "Requirement already satisfied: python-slugify in /opt/conda/envs/sagemaker-distribution/lib/python3.10/site-packages (from kaggle) (8.0.4)\n",
      "Requirement already satisfied: requests in /opt/conda/envs/sagemaker-distribution/lib/python3.10/site-packages (from kaggle) (2.31.0)\n",
      "Requirement already satisfied: setuptools>=21.0.0 in /opt/conda/envs/sagemaker-distribution/lib/python3.10/site-packages (from kaggle) (69.5.1)\n",
      "Requirement already satisfied: six>=1.10 in /opt/conda/envs/sagemaker-distribution/lib/python3.10/site-packages (from kaggle) (1.16.0)\n",
      "Requirement already satisfied: text-unidecode in /opt/conda/envs/sagemaker-distribution/lib/python3.10/site-packages (from kaggle) (1.3)\n",
      "Requirement already satisfied: tqdm in /opt/conda/envs/sagemaker-distribution/lib/python3.10/site-packages (from kaggle) (4.66.4)\n",
      "Requirement already satisfied: urllib3>=1.15.1 in /opt/conda/envs/sagemaker-distribution/lib/python3.10/site-packages (from kaggle) (1.26.18)\n",
      "Requirement already satisfied: webencodings in /opt/conda/envs/sagemaker-distribution/lib/python3.10/site-packages (from kaggle) (0.5.1)\n",
      "Downloading kaggle-1.7.4.5-py3-none-any.whl (181 kB)\n",
      "\u001b[2K   \u001b[90m━━━━━━━━━━━━━━━━━━━━━━━━━━━━━━━━━━━━━━━━\u001b[0m \u001b[32m181.2/181.2 kB\u001b[0m \u001b[31m6.0 MB/s\u001b[0m eta \u001b[36m0:00:00\u001b[0m\n",
      "\u001b[?25hInstalling collected packages: kaggle\n",
      "Successfully installed kaggle-1.7.4.5\n"
     ]
    }
   ],
   "source": [
    "!pip install kaggle\n"
   ]
  },
  {
   "cell_type": "code",
   "execution_count": 22,
   "id": "60dfc9a8-58ff-4188-b98e-dc936de65bf3",
   "metadata": {
    "tags": []
   },
   "outputs": [
    {
     "name": "stderr",
     "output_type": "stream",
     "text": [
      "100%|██████████| 188k/188k [00:00<00:00, 405kB/s]\n"
     ]
    },
    {
     "name": "stdout",
     "output_type": "stream",
     "text": [
      "Successfully submitted to Bike Sharing Demand"
     ]
    },
    {
     "data": {
      "text/plain": [
       "0"
      ]
     },
     "execution_count": 22,
     "metadata": {},
     "output_type": "execute_result"
    }
   ],
   "source": [
    "import os\n",
    "\n",
    "competition_name = 'bike-sharing-demand'  \n",
    "submission_file = 'malakmodel.csv'\n",
    "message = 'AutoGluon model submission'\n",
    "\n",
    "os.system(f'kaggle competitions submit -c {competition_name} -f {submission_file} -m \"{message}\"')\n",
    "\n"
   ]
  },
  {
   "cell_type": "code",
   "execution_count": null,
   "id": "e778ee5c-8c57-4766-98bc-7882126d3529",
   "metadata": {},
   "outputs": [],
   "source": []
  },
  {
   "cell_type": "code",
   "execution_count": 18,
   "id": "e6984fc4-631a-44c6-8805-6b6e76e1f74a",
   "metadata": {
    "tags": []
   },
   "outputs": [
    {
     "name": "stdout",
     "output_type": "stream",
     "text": [
      "/usr/bin/sh: 1: cannot open competition-name: No such file\n",
      "/usr/bin/sh: 1: kaggle: not found\n"
     ]
    }
   ],
   "source": []
  },
  {
   "cell_type": "code",
   "execution_count": null,
   "id": "fe9fab02-1f0c-4c98-89ff-686348af34ad",
   "metadata": {},
   "outputs": [],
   "source": []
  }
 ],
 "metadata": {
  "kernelspec": {
   "display_name": "sagemaker-distribution:Python",
   "language": "python",
   "name": "conda-env-sagemaker-distribution-py"
  },
  "language_info": {
   "codemirror_mode": {
    "name": "ipython",
    "version": 3
   },
   "file_extension": ".py",
   "mimetype": "text/x-python",
   "name": "python",
   "nbconvert_exporter": "python",
   "pygments_lexer": "ipython3",
   "version": "3.10.14"
  }
 },
 "nbformat": 4,
 "nbformat_minor": 5
}
